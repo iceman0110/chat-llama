{
 "cells": [
  {
   "cell_type": "code",
   "execution_count": 5,
   "metadata": {},
   "outputs": [],
   "source": [
    "#set GROQ_API_KEY in the secrets\n",
    "import os\n",
    "from groq import Groq\n",
    "from dotenv import load_dotenv\n",
    "\n",
    "# Create the Groq client\n",
    "load_dotenv(dotenv_path=\"key.env\")\n",
    "api_key = os.environ.get(\"GROQ_API_KEY\") \n",
    "client = Groq(api_key=api_key)\n",
    "model = 'llama3-8b-8192'\n",
    "token_count = 1000\n",
    "temperature = 1.2"
   ]
  },
  {
   "cell_type": "code",
   "execution_count": null,
   "metadata": {},
   "outputs": [
    {
     "name": "stdout",
     "output_type": "stream",
     "text": [
      "Assistant: I'm here to help. What's your question?\n",
      "Assistant: Hey, how's it going?\n",
      "Assistant: I'm a computer program, so I don't have a life.\n",
      "Assistant: That's not physically possible.\n",
      "Assistant: That's a unique perspective.\n",
      "Assistant: Nice Stark Reference.\n",
      "Assistant: Adventurous name.\n",
      "Assistant: Unique.\n",
      "Assistant: Silence...\n",
      "Assistant: Pareidolia.\n"
     ]
    }
   ],
   "source": [
    "# Set the system prompt\n",
    "system_prompt = {\n",
    "    \"role\": \"system\",\n",
    "    \"content\":\n",
    "    \"You are a helpful assistant. You reply with very short answers.\"\n",
    "}\n",
    "\n",
    "# Initialize the chat history\n",
    "chat_history = [system_prompt]\n",
    "\n",
    "while True:\n",
    "  # Get user input from the console\n",
    "  user_input = input(\"You: \")\n",
    "\n",
    "  # Append the user input to the chat history\n",
    "  chat_history.append({\"role\": \"user\", \"content\": user_input})\n",
    "\n",
    "  response = client.chat.completions.create(model=model,\n",
    "                                            messages=chat_history,\n",
    "                                            max_tokens=token_count,\n",
    "                                            temperature=temperature)\n",
    "  # Append the response to the chat history\n",
    "  chat_history.append({\n",
    "      \"role\": \"assistant\",\n",
    "      \"content\": response.choices[0].message.content\n",
    "  })\n",
    "  # Print the response\n",
    "  print(\"Assistant:\", response.choices[0].message.content)"
   ]
  },
  {
   "cell_type": "code",
   "execution_count": null,
   "metadata": {},
   "outputs": [
    {
     "name": "stdout",
     "output_type": "stream",
     "text": [
      "Hello! I'm your friendly Groq chatbot. I can help answer your questions, provide information, or just chat. I'm also super fast! Let's start our conversation!\n"
     ]
    },
    {
     "name": "stderr",
     "output_type": "stream",
     "text": [
      "C:\\Users\\aime\\AppData\\Local\\Temp\\ipykernel_6744\\3819217796.py:28: LangChainDeprecationWarning: Please see the migration guide at: https://python.langchain.com/docs/versions/migrating_memory/\n",
      "  memory = ConversationBufferWindowMemory(k=conversational_memory_length, memory_key=\"chat_history\", return_messages=True)\n"
     ]
    }
   ],
   "source": [
    "import os\n",
    "from langchain.chains import LLMChain\n",
    "from langchain_core.prompts import (\n",
    "    ChatPromptTemplate,\n",
    "    HumanMessagePromptTemplate,\n",
    "    MessagesPlaceholder,\n",
    ")\n",
    "from langchain_core.messages import SystemMessage\n",
    "from langchain.chains.conversation.memory import ConversationBufferWindowMemory\n",
    "from langchain_groq import ChatGroq\n",
    "\n",
    "\n",
    "def main():\n",
    "    \"\"\"\n",
    "    This function is the main entry point of the application. It sets up the Groq client, the Streamlit interface, and handles the chat interaction.\n",
    "    \"\"\"\n",
    "\n",
    "    groq_chat = ChatGroq(\n",
    "            groq_api_key=api_key, \n",
    "            model_name=model\n",
    "    )\n",
    "    \n",
    "    print(\"Hello! I'm your friendly Groq chatbot. I can help answer your questions, provide information, or just chat. I'm also super fast! Let's start our conversation!\")\n",
    "\n",
    "    system_prompt = 'You are a friendly conversational chatbot'\n",
    "    conversational_memory_length = 5 # number of previous messages the chatbot will remember during the conversation\n",
    "\n",
    "    memory = ConversationBufferWindowMemory(k=conversational_memory_length, memory_key=\"chat_history\", return_messages=True)\n",
    "\n",
    "\n",
    "    #chat_history = []\n",
    "    while True:\n",
    "        user_question = input(\"Ask a question: \")\n",
    "\n",
    "        # If the user has asked a question,\n",
    "        if user_question:\n",
    "\n",
    "            # Construct a chat prompt template using various components\n",
    "            prompt = ChatPromptTemplate.from_messages(\n",
    "                [\n",
    "                    SystemMessage(\n",
    "                        content=system_prompt\n",
    "                    ),  # This is the persistent system prompt that is always included at the start of the chat.\n",
    "\n",
    "                    MessagesPlaceholder(\n",
    "                        variable_name=\"chat_history\"\n",
    "                    ),  # This placeholder will be replaced by the actual chat history during the conversation. It helps in maintaining context.\n",
    "\n",
    "                    HumanMessagePromptTemplate.from_template(\n",
    "                        \"{human_input}\"\n",
    "                    ),  # This template is where the user's current input will be injected into the prompt.\n",
    "                ]\n",
    "            )\n",
    "\n",
    "            # Create a conversation chain using the LangChain LLM (Language Learning Model)\n",
    "            conversation = LLMChain(\n",
    "                llm=groq_chat,  # The Groq LangChain chat object initialized earlier.\n",
    "                prompt=prompt,  # The constructed prompt template.\n",
    "                verbose=False,   # TRUE Enables verbose output, which can be useful for debugging.\n",
    "                memory=memory,  # The conversational memory object that stores and manages the conversation history.\n",
    "            )\n",
    "            # The chatbot's answer is generated by sending the full prompt to the Groq API.\n",
    "            response = conversation.predict(human_input=user_question)\n",
    "            print(\"Chatbot:\", response)\n",
    "\n",
    "if __name__ == \"__main__\":\n",
    "    main()"
   ]
  },
  {
   "cell_type": "code",
   "execution_count": null,
   "metadata": {},
   "outputs": [],
   "source": []
  }
 ],
 "metadata": {
  "kernelspec": {
   "display_name": "chatbot",
   "language": "python",
   "name": "python3"
  },
  "language_info": {
   "codemirror_mode": {
    "name": "ipython",
    "version": 3
   },
   "file_extension": ".py",
   "mimetype": "text/x-python",
   "name": "python",
   "nbconvert_exporter": "python",
   "pygments_lexer": "ipython3",
   "version": "3.10.15"
  }
 },
 "nbformat": 4,
 "nbformat_minor": 2
}
